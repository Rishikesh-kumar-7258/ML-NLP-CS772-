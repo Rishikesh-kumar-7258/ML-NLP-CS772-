{
 "cells": [
  {
   "cell_type": "code",
   "execution_count": 2,
   "id": "e81bed32",
   "metadata": {},
   "outputs": [
    {
     "data": {
      "text/plain": [
       "['अ',\n",
       " 'आ',\n",
       " 'इ',\n",
       " 'ई',\n",
       " 'उ',\n",
       " 'ऊ',\n",
       " 'ऋ',\n",
       " 'ए',\n",
       " 'ऐ',\n",
       " 'ओ',\n",
       " 'औ',\n",
       " 'अं',\n",
       " 'अः',\n",
       " 'क',\n",
       " 'ख',\n",
       " 'ग',\n",
       " 'घ',\n",
       " 'ङ',\n",
       " 'च',\n",
       " 'छ',\n",
       " 'ज',\n",
       " 'झ',\n",
       " 'ञ',\n",
       " 'ट',\n",
       " 'ठ',\n",
       " 'ड',\n",
       " 'ढ',\n",
       " 'ण',\n",
       " 'त',\n",
       " 'थ',\n",
       " 'द',\n",
       " 'ध',\n",
       " 'न',\n",
       " 'प',\n",
       " 'फ',\n",
       " 'ब',\n",
       " 'भ',\n",
       " 'म',\n",
       " 'य',\n",
       " 'र',\n",
       " 'ल',\n",
       " 'व',\n",
       " 'श',\n",
       " 'ष',\n",
       " 'स',\n",
       " 'ह',\n",
       " 'क्ष',\n",
       " 'त्र',\n",
       " 'ज्ञ']"
      ]
     },
     "execution_count": 2,
     "metadata": {},
     "output_type": "execute_result"
    }
   ],
   "source": [
    "hind_vowels = [\"अ\", \"आ\", \"इ\", \"ई\", \"उ\", \"ऊ\", \"ऋ\", \"ए\", \"ऐ\", \"ओ\", \"औ\", \"अं\", \"अः\"]\n",
    "hindi_consonants = [\n",
    "    \"क\", \"ख\", \"ग\", \"घ\", \"ङ\",\n",
    "    \"च\", \"छ\", \"ज\", \"झ\", \"ञ\",\n",
    "    \"ट\", \"ठ\", \"ड\", \"ढ\", \"ण\",\n",
    "    \"त\", \"थ\", \"द\", \"ध\", \"न\",\n",
    "    \"प\", \"फ\", \"ब\", \"भ\", \"म\",\n",
    "    \"य\", \"र\", \"ल\", \"व\",\n",
    "    \"श\", \"ष\", \"स\", \"ह\",\n",
    "    \"क्ष\", \"त्र\", \"ज्ञ\"\n",
    "]\n",
    "\n",
    "hindi_alphabets = hind_vowels + hindi_consonants\n",
    "hindi_alphabets"
   ]
  },
  {
   "cell_type": "code",
   "execution_count": 7,
   "id": "ef987d50",
   "metadata": {},
   "outputs": [
    {
     "name": "stdout",
     "output_type": "stream",
     "text": [
      "  b' ' 32\n",
      "न b'\\xe0\\xa4\\xa8' 2344\n",
      "म b'\\xe0\\xa4\\xae' 2350\n",
      "स b'\\xe0\\xa4\\xb8' 2360\n",
      "् b'\\xe0\\xa5\\x8d' 2381\n",
      "त b'\\xe0\\xa4\\xa4' 2340\n",
      "े b'\\xe0\\xa5\\x87' 2375\n"
     ]
    }
   ],
   "source": [
    "word = input(\"Enter a Hindi word: \")\n",
    "for char in word:\n",
    "  print(char, char.encode('utf-8'), ord(char))"
   ]
  },
  {
   "cell_type": "code",
   "execution_count": null,
   "id": "60ed1a38",
   "metadata": {},
   "outputs": [],
   "source": []
  }
 ],
 "metadata": {
  "kernelspec": {
   "display_name": "venv",
   "language": "python",
   "name": "python3"
  },
  "language_info": {
   "codemirror_mode": {
    "name": "ipython",
    "version": 3
   },
   "file_extension": ".py",
   "mimetype": "text/x-python",
   "name": "python",
   "nbconvert_exporter": "python",
   "pygments_lexer": "ipython3",
   "version": "3.12.1"
  }
 },
 "nbformat": 4,
 "nbformat_minor": 5
}

{
 "cells": [
  {
   "cell_type": "code",
   "execution_count": null,
   "id": "e81bed32",
   "metadata": {},
   "outputs": [
    {
     "ename": "",
     "evalue": "",
     "output_type": "error",
     "traceback": [
      "\u001b[1;31mRunning cells with 'venv (3.13.3) (Python 3.13.3)' requires the ipykernel package.\n",
      "\u001b[1;31mInstall 'ipykernel' into the Python environment. \n",
      "\u001b[1;31mCommand: '/home/rishi/Desktop/ML-NLP-CS772-/venv/bin/python -m pip install ipykernel -U --force-reinstall'"
     ]
    }
   ],
   "source": [
    "hind_vowels = [\"अ\", \"आ\", \"इ\", \"ई\", \"उ\", \"ऊ\", \"ऋ\", \"ए\", \"ऐ\", \"ओ\", \"औ\", \"अं\", \"अः\"]\n",
    "hindi_consonants = [\n",
    "    \"क\", \"ख\", \"ग\", \"घ\", \"ङ\",\n",
    "    \"च\", \"छ\", \"ज\", \"झ\", \"ञ\",\n",
    "    \"ट\", \"ठ\", \"ड\", \"ढ\", \"ण\",\n",
    "    \"त\", \"थ\", \"द\", \"ध\", \"न\",\n",
    "    \"प\", \"फ\", \"ब\", \"भ\", \"म\",\n",
    "    \"य\", \"र\", \"ल\", \"व\",\n",
    "    \"श\", \"ष\", \"स\", \"ह\",\n",
    "    \"क्ष\", \"त्र\", \"ज्ञ\"\n",
    "]"
   ]
  },
  {
   "cell_type": "code",
   "execution_count": null,
   "id": "ef987d50",
   "metadata": {},
   "outputs": [],
   "source": []
  }
 ],
 "metadata": {
  "kernelspec": {
   "display_name": "venv (3.13.3)",
   "language": "python",
   "name": "python3"
  },
  "language_info": {
   "name": "python",
   "version": "3.13.3"
  }
 },
 "nbformat": 4,
 "nbformat_minor": 5
}
